{
 "cells": [
  {
   "cell_type": "markdown",
   "metadata": {},
   "source": [
    "# DSA - inner collisions\n",
    "\n",
    "Find two (meaningful*) messages m_1 and m_2, for which DSA public parameters (p, q, g) exist such that both messages have the same signature (r, s) regardless of the private key value. The signature of m_1 is thus at the same time a valid signature of m_2 and vice versa. Find the parameters (p, q, g) and show the collision of both signatures for a randomly chosen private key."
   ]
  },
  {
   "cell_type": "code",
   "execution_count": 1,
   "metadata": {},
   "outputs": [],
   "source": [
    "from random import randrange\n",
    "from functools import lru_cache\n",
    "import hashlib\n",
    "from sympy import isprime"
   ]
  },
  {
   "cell_type": "code",
   "execution_count": 2,
   "metadata": {},
   "outputs": [],
   "source": [
    "N = 160\n",
    "L = 1024\n",
    "\n",
    "TRY = 1000"
   ]
  },
  {
   "cell_type": "code",
   "execution_count": 3,
   "metadata": {},
   "outputs": [],
   "source": [
    "def random_word(words):\n",
    "    return words[randrange(len(words))]\n",
    "\n",
    "@lru_cache(maxsize=None)\n",
    "def H(msg: str) -> int:\n",
    "    binary_digest = hashlib.sha1(msg.encode()).digest()\n",
    "    return int.from_bytes(binary_digest, byteorder='big')\n",
    "\n",
    "def sign(msg, p, q, g, x):\n",
    "    k = randrange(1, q)\n",
    "    r = pow(g, k, p) % q\n",
    "    s = pow(k, -1, q) * (H(msg) + x * r) % q\n",
    "    return r, s\n",
    "\n",
    "def verify(msg, r, s, p, q, g, y):\n",
    "    if not (0 < r < q and 0 < s < q):\n",
    "        return False\n",
    "    w = pow(s, -1, q)\n",
    "    u1 = H(msg) * w % q\n",
    "    u2 = r * w % q\n",
    "    v = pow(g, u1, p) * pow(y, u2, p) % p % q\n",
    "    return v == r"
   ]
  },
  {
   "cell_type": "code",
   "execution_count": 4,
   "metadata": {},
   "outputs": [
    {
     "name": "stdout",
     "output_type": "stream",
     "text": [
      "Params (\n",
      "  p=144083100281591605451159397187506583965112822883675521484931524139635771984608708499464096642385083104026267768955620967886854685633784884573829854085039348920739715611615637183606297329076755354656158865435150044350349455098540489496947701329454566423498565650640731334757484420935076482274031393490044409201,\n",
      "  q=914674423860552342366706961206651745430086824819,\n",
      "  g=139052240548920405033528506104922290650045096943578232446806025389843541915895195942892272930869974460755457769790572026219638852338144649806033928233025707245558897462001332592324664260910708069112862982206299344766227970762903416738950338956068049303269811550582181231165709171266272839206531940302998255920\n",
      ")\n",
      "Message 1: anutraminosa\n",
      "Message 2: panelwork\n"
     ]
    }
   ],
   "source": [
    "with open(\"words.txt\", \"r\") as f:\n",
    "    words = f.read().splitlines()\n",
    "    found = False\n",
    "    while not found:\n",
    "        m1 = random_word(words)\n",
    "        h1 = H(m1)\n",
    "        for _ in range(TRY):\n",
    "            m2 = random_word(words)\n",
    "            if m1 == m2:\n",
    "                continue\n",
    "            h2 = H(m2)\n",
    "            q = abs(h1 - h2)\n",
    "            if q == 0:\n",
    "                print(f\"Hash collision: {m1}, {m2}\")\n",
    "            if q.bit_length() == N and isprime(q):\n",
    "                for _ in range(TRY):\n",
    "                    p = q * randrange(2**(L-1) // q, 2**L // q) + 1\n",
    "                    if p.bit_length() == L and isprime(p):\n",
    "                        for _ in range(TRY):\n",
    "                            h = randrange(2, p)\n",
    "                            g = pow(h, (p-1) // q, p)\n",
    "                            if g != 1:\n",
    "                                found = True\n",
    "                                break\n",
    "                        if found:\n",
    "                            break\n",
    "                if found:\n",
    "                    break\n",
    "\n",
    "print(f\"Params (\\n  {p=},\\n  {q=},\\n  {g=}\\n)\")\n",
    "print(f\"Message 1: {m1}\")\n",
    "print(f\"Message 2: {m2}\")"
   ]
  },
  {
   "cell_type": "code",
   "execution_count": 5,
   "metadata": {},
   "outputs": [
    {
     "name": "stdout",
     "output_type": "stream",
     "text": [
      "Private key: 16620377147184025480670071234175520857345814898\n",
      "Public key: 140625364599248349944030445607223516442442924997760252892684821306636315280781187364935892310222329130438040465854554910207252615162677241469930617379977579994914112589503345443934769337645737982562812916986600157862095911329285824883377138369551040983190823152176340047907436791745392148322391975461691197283\n"
     ]
    }
   ],
   "source": [
    "x = randrange(1, q - 1)\n",
    "y = pow(g, x, p)\n",
    "print(f\"Private key: {x}\")\n",
    "print(f\"Public key: {y}\")"
   ]
  },
  {
   "cell_type": "code",
   "execution_count": 6,
   "metadata": {},
   "outputs": [
    {
     "name": "stdout",
     "output_type": "stream",
     "text": [
      "Signature 1: (r=151981894968631690348237310436893841541784460652, s=170529898577311174642194170725070483465027253671)\n",
      "Signature 2: (r=203772632167043230177126302809178766010218603070, s=404002800828249734571294531062430619481366360344)\n",
      "Message 1 signature 2: True\n",
      "Message 2 signature 1: True\n"
     ]
    }
   ],
   "source": [
    "r1, s1 = sign(m1, p, q, g, x)\n",
    "r2, s2 = sign(m2, p, q, g, x)\n",
    "print(f\"Signature 1: (r={r1}, s={s1})\")\n",
    "print(f\"Signature 2: (r={r2}, s={s2})\")\n",
    "print(f\"Message 1 signature 2: {verify(m1, r2, s2, p, q, g, y)}\")\n",
    "print(f\"Message 2 signature 1: {verify(m2, r1, s1, p, q, g, y)}\")"
   ]
  }
 ],
 "metadata": {
  "kernelspec": {
   "display_name": "venv",
   "language": "python",
   "name": "python3"
  },
  "language_info": {
   "codemirror_mode": {
    "name": "ipython",
    "version": 3
   },
   "file_extension": ".py",
   "mimetype": "text/x-python",
   "name": "python",
   "nbconvert_exporter": "python",
   "pygments_lexer": "ipython3",
   "version": "3.12.1"
  }
 },
 "nbformat": 4,
 "nbformat_minor": 2
}
