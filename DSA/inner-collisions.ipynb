{
 "cells": [
  {
   "cell_type": "markdown",
   "metadata": {},
   "source": [
    "# DSA - inner collisions\n",
    "\n",
    "Find two (meaningful*) messages m_1 and m_2, for which DSA public parameters (p, q, g) exist such that both messages have the same signature (r, s) regardless of the private key value. The signature of m_1 is thus at the same time a valid signature of m_2 and vice versa. Find the parameters (p, q, g) and show the collision of both signatures for a randomly chosen private key."
   ]
  },
  {
   "cell_type": "code",
   "execution_count": null,
   "metadata": {},
   "outputs": [],
   "source": []
  }
 ],
 "metadata": {
  "kernelspec": {
   "display_name": "venv",
   "language": "python",
   "name": "python3"
  },
  "language_info": {
   "codemirror_mode": {
    "name": "ipython",
    "version": 3
   },
   "file_extension": ".py",
   "mimetype": "text/x-python",
   "name": "python",
   "nbconvert_exporter": "python",
   "pygments_lexer": "ipython3",
   "version": "3.12.1"
  }
 },
 "nbformat": 4,
 "nbformat_minor": 2
}
